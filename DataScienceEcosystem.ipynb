{
 "cells": [
  {
   "cell_type": "markdown",
   "id": "3613523e-2012-4c7d-a78c-dbdc17890fef",
   "metadata": {},
   "source": [
    "<h1>Data Science Tools and Ecosystem<h1/>"
   ]
  },
  {
   "cell_type": "markdown",
   "id": "3637e64d-61cd-4cd7-afae-ff795efa371c",
   "metadata": {},
   "source": [
    "In this notebook, Data Science Tools and Ecosystem are summarized."
   ]
  },
  {
   "cell_type": "markdown",
   "id": "d4b56ea1-d52d-4f39-be58-a61d5dc34f6c",
   "metadata": {},
   "source": [
    "<b>Objectives:<b/>"
   ]
  },
  {
   "cell_type": "markdown",
   "id": "6ae83b95-548d-4b69-a9e7-d775bfe397c9",
   "metadata": {},
   "source": [
    "1. List popular languages for Data Science\n",
    "2. List popular libraries for Data Science\n",
    "3. List Open Source Data Science tools.\n",
    "4. Evaluate arithmetic expressions in Python."
   ]
  },
  {
   "cell_type": "markdown",
   "id": "9b626134-e94b-4eaa-8ceb-5d19f25d51f1",
   "metadata": {},
   "source": [
    "<b>Objectives:<b/>\n",
    "1. List popular languages for Data Science\n",
    "2. List coomon liraries used in Data Science.\n",
    "3. List Open Source Data Science Tools.\n",
    "4. Evaluate arithmetic expression in Python."
   ]
  },
  {
   "cell_type": "markdown",
   "id": "92868867-76dd-4ae6-a88d-911d515c7f12",
   "metadata": {},
   "source": [
    "Some of the popular languages that Data Scientists use are:\n",
    "1. Python\n",
    "2. R\n",
    "3. SQL"
   ]
  },
  {
   "cell_type": "markdown",
   "id": "49c04794-a6e5-4cb5-968b-f6113475cc8e",
   "metadata": {},
   "source": [
    "Some of the commonly used libraries used by Data Scientists include:\n",
    "1. TensorFlow\n",
    "2. NumPy\n",
    "3. SciPy"
   ]
  },
  {
   "cell_type": "markdown",
   "id": "a4491229-f5ab-42b6-8783-af4b97799c87",
   "metadata": {
    "tags": []
   },
   "source": [
    "|Data Science Tools|\n",
    "|------------------|\n",
    "|Rstudio|\n",
    "|IBM SSPS|\n",
    "|Jupyter Notebook|"
   ]
  },
  {
   "cell_type": "markdown",
   "id": "3d317535-f4ca-4130-8615-6e5a5925fe0f",
   "metadata": {},
   "source": [
    "<h3>Below are a few examples of evaluating arithmetic expressions in Python.<h3/>\n"
   ]
  },
  {
   "cell_type": "code",
   "execution_count": 10,
   "id": "41a0fad1-badf-4197-aff2-79c87eed408f",
   "metadata": {
    "tags": []
   },
   "outputs": [
    {
     "data": {
      "text/plain": [
       "17"
      ]
     },
     "execution_count": 10,
     "metadata": {},
     "output_type": "execute_result"
    }
   ],
   "source": [
    "# This a simple arithmetic expression to mutiply then add integers\n",
    "(3*4)+5"
   ]
  },
  {
   "cell_type": "code",
   "execution_count": 11,
   "id": "27ebc102-e5fe-415b-973a-07a0302d4e9f",
   "metadata": {
    "tags": []
   },
   "outputs": [
    {
     "data": {
      "text/plain": [
       "3.3333333333333335"
      ]
     },
     "execution_count": 11,
     "metadata": {},
     "output_type": "execute_result"
    }
   ],
   "source": [
    "# This will convert 200 minutes to hours by diving by 60\n",
    "200/60"
   ]
  },
  {
   "cell_type": "markdown",
   "id": "65a136d4-e1e6-4962-8480-963c1fc5036f",
   "metadata": {},
   "source": [
    "## Author\n",
    "Jana Law"
   ]
  }
 ],
 "metadata": {
  "kernelspec": {
   "display_name": "Python 3 (ipykernel)",
   "language": "python",
   "name": "python3"
  },
  "language_info": {
   "codemirror_mode": {
    "name": "ipython",
    "version": 3
   },
   "file_extension": ".py",
   "mimetype": "text/x-python",
   "name": "python",
   "nbconvert_exporter": "python",
   "pygments_lexer": "ipython3",
   "version": "3.8.16"
  }
 },
 "nbformat": 4,
 "nbformat_minor": 5
}
